{
 "metadata": {
  "language_info": {
   "codemirror_mode": {
    "name": "ipython",
    "version": 3
   },
   "file_extension": ".py",
   "mimetype": "text/x-python",
   "name": "python",
   "nbconvert_exporter": "python",
   "pygments_lexer": "ipython3",
   "version": "3.9.4"
  },
  "orig_nbformat": 4,
  "kernelspec": {
   "name": "python3",
   "display_name": "Python 3.9.4 64-bit ('SQL_pratica-YQP7bmTo': pipenv)"
  },
  "interpreter": {
   "hash": "5054e1835072d15edf9a42d8ee002f8557ac7623d8e0014c7c538bf4859506ea"
  }
 },
 "nbformat": 4,
 "nbformat_minor": 2,
 "cells": [
  {
   "cell_type": "code",
   "execution_count": 3,
   "source": [
    "from sqlalchemy import create_engine\r\n",
    "from sqlalchemy import text\r\n",
    "from sqlalchemy import select, bindparam\r\n",
    "engine = create_engine(\"sqlite+pysqlite:///MyFirstDB\", echo=True, future=True)"
   ],
   "outputs": [],
   "metadata": {}
  },
  {
   "cell_type": "code",
   "execution_count": null,
   "source": [
    "# \"commit as you go\"\r\n",
    "with engine.connect() as conn:\r\n",
    "    conn.execute(text(\"CREATE TABLE some_table (x int, y int)\"))\r\n",
    "    conn.execute(\r\n",
    "        text(\"INSERT INTO some_table (x,y) VALUES (:x,:y)\"),\r\n",
    "        [{\"x\":1,\"y\":1},{\"x\":2,\"y\":4}]\r\n",
    "    )\r\n",
    "    conn.commit()"
   ],
   "outputs": [],
   "metadata": {}
  },
  {
   "cell_type": "code",
   "execution_count": null,
   "source": [
    "with engine.begin() as conn:\r\n",
    "    conn.execute(\r\n",
    "        text(\"INSERT  INTO some_table (x,y) VALUES (:x, :y)\"),\r\n",
    "        [{\"x\": 6, \"y\": 8}, {\"x\": 9, \"y\": 10}] \r\n",
    "    )"
   ],
   "outputs": [],
   "metadata": {}
  },
  {
   "cell_type": "code",
   "execution_count": 5,
   "source": [
    "#Fetching rows\r\n",
    "with engine.connect() as conn:\r\n",
    "    result = conn.execute(text(\"SELECT * FROM some_table\"))\r\n",
    "    for row in result:\r\n",
    "        print(f\"x:{row.x} y:{row.y}\")"
   ],
   "outputs": [
    {
     "output_type": "stream",
     "name": "stdout",
     "text": [
      "2021-07-28 12:39:32,881 INFO sqlalchemy.engine.Engine BEGIN (implicit)\n",
      "2021-07-28 12:39:32,882 INFO sqlalchemy.engine.Engine SELECT * FROM some_table\n",
      "2021-07-28 12:39:32,883 INFO sqlalchemy.engine.Engine [generated in 0.00167s] ()\n",
      "x:1 y:1\n",
      "x:2 y:4\n",
      "x:6 y:8\n",
      "x:9 y:11\n",
      "x:11 y:12\n",
      "x:13 y:15\n",
      "2021-07-28 12:39:32,886 INFO sqlalchemy.engine.Engine ROLLBACK\n"
     ]
    }
   ],
   "metadata": {}
  },
  {
   "cell_type": "code",
   "execution_count": null,
   "source": [
    "#Sending Parameters\r\n",
    "with engine.connect() as conn:\r\n",
    "    result = conn.execute(\r\n",
    "        text(\"SELECT x,y FROM some_table WHERE y > :y\"),\r\n",
    "        {\"y\":2}\r\n",
    "    )\r\n",
    "    for row in result:\r\n",
    "        print(f\"x:{row.x} y:{row.y}\")"
   ],
   "outputs": [],
   "metadata": {}
  },
  {
   "cell_type": "code",
   "execution_count": null,
   "source": [
    "#Sending Multiple Parameters\r\n",
    "with engine.connect() as conn:\r\n",
    "    conn.execute(\r\n",
    "        text(\"INSERT INTO some_table (x,y) VALUES (:x, :y)\"),\r\n",
    "        [{\"x\": 11, \"y\": 12}, {\"x\": 13, \"y\": 14}]\r\n",
    "    )\r\n",
    "    conn.commit()"
   ],
   "outputs": [],
   "metadata": {}
  },
  {
   "cell_type": "code",
   "execution_count": null,
   "source": [
    "#Bundling Parameters with a Statement\r\n",
    "from sqlalchemy.orm import Session\r\n",
    "#-----statement--#\r\n",
    "stmt = text(\"SELECT x,y FROM some_table WHERE y>:y ORDER BY x,y\").bindparams(y=6)\r\n",
    "#-----------------#\r\n",
    "with Session(engine) as session:\r\n",
    "    result = session.execute(stmt)\r\n",
    "    for row in result:\r\n",
    "        print(f\"x:{row.x} y:{row.y}\")"
   ],
   "outputs": [],
   "metadata": {}
  },
  {
   "cell_type": "code",
   "execution_count": null,
   "source": [
    "with Session(engine) as session:\r\n",
    "    result = session.execute(\r\n",
    "        text(\"UPDATE some_table SET y=:y WHERE x=:x\"),\r\n",
    "        [{\"x\": 9, \"y\":11}, {\"x\": 13, \"y\": 15}]\r\n",
    "    )\r\n",
    "    session.commit"
   ],
   "outputs": [],
   "metadata": {}
  },
  {
   "cell_type": "code",
   "execution_count": 7,
   "source": [
    "#Setting up MetaData with Table objects\r\n",
    "from sqlalchemy import MetaData\r\n",
    "\r\n",
    "metadata = MetaData()"
   ],
   "outputs": [],
   "metadata": {}
  },
  {
   "cell_type": "code",
   "execution_count": 8,
   "source": [
    "from sqlalchemy import Table, Column, Integer, String\r\n",
    "user_table = Table(\r\n",
    "    \"user_account\",\r\n",
    "    metadata,\r\n",
    "    Column('id', Integer, primary_key=True),\r\n",
    "    Column('name', String(30)),\r\n",
    "    Column('fullname',String)\r\n",
    ")"
   ],
   "outputs": [],
   "metadata": {}
  },
  {
   "cell_type": "code",
   "execution_count": 9,
   "source": [
    "#Declaring simple Constraints\r\n",
    "from sqlalchemy import ForeignKey\r\n",
    "address_table = Table (\r\n",
    "    \"address\",\r\n",
    "    metadata,\r\n",
    "    Column('id', Integer, primary_key=True),\r\n",
    "    Column('user_id', ForeignKey('user_account.id'), nullable= False),\r\n",
    "    Column('email_address', String, nullable= False)\r\n",
    ")"
   ],
   "outputs": [],
   "metadata": {}
  },
  {
   "cell_type": "code",
   "execution_count": null,
   "source": [
    "metadata.create_all(engine)"
   ],
   "outputs": [],
   "metadata": {}
  },
  {
   "cell_type": "code",
   "execution_count": null,
   "source": [
    "some_table = Table(\"some_table\", metadata, autoload_with= engine)"
   ],
   "outputs": [],
   "metadata": {}
  },
  {
   "cell_type": "code",
   "execution_count": null,
   "source": [
    "some_table"
   ],
   "outputs": [],
   "metadata": {}
  },
  {
   "cell_type": "markdown",
   "source": [
    "## Working with Data"
   ],
   "metadata": {}
  },
  {
   "cell_type": "code",
   "execution_count": null,
   "source": [
    "from sqlalchemy import insert\r\n",
    "stmt = insert(user_table).values(name= 'spongebob', fullname= \"Spongebob Squarepants\")\r\n",
    "print(stmt)\r\n"
   ],
   "outputs": [],
   "metadata": {}
  },
  {
   "cell_type": "code",
   "execution_count": null,
   "source": [
    "compiled = stmt.compile()\r\n",
    "compiled.params"
   ],
   "outputs": [],
   "metadata": {}
  },
  {
   "cell_type": "code",
   "execution_count": null,
   "source": [
    "with engine.connect() as conn:\r\n",
    "    result= conn.execute(stmt)\r\n",
    "    conn.commit()"
   ],
   "outputs": [],
   "metadata": {}
  },
  {
   "cell_type": "code",
   "execution_count": null,
   "source": [
    "with engine.connect() as conn:\r\n",
    "    result= conn.execute(\r\n",
    "        insert(user_table),\r\n",
    "        [\r\n",
    "            {\"name\":\"sandy\", \"fullname\": \"Sandy Cheeks\"},\r\n",
    "            {\"name\": \"patrick\", \"fullname\": \"Patrick Star\"}\r\n",
    "        ]\r\n",
    "    )\r\n",
    "    conn.commit()"
   ],
   "outputs": [],
   "metadata": {}
  },
  {
   "cell_type": "code",
   "execution_count": null,
   "source": [
    "from sqlalchemy import select, bindparam\r\n",
    "scalar_subquery = (\r\n",
    "    select(user_table.c.id).\r\n",
    "    where(user_table.c.name==bindparam('username')).\r\n",
    "    scalar_subquery()\r\n",
    ")\r\n",
    "\r\n"
   ],
   "outputs": [],
   "metadata": {}
  },
  {
   "cell_type": "code",
   "execution_count": null,
   "source": [
    "with engine.connect() as conn:\r\n",
    "   result = conn.execute(\r\n",
    "       insert(address_table).values(user_id=scalar_subquery),\r\n",
    "       [\r\n",
    "           {\"username\": 'spongebob', \"email_address\": \"spongebob@sqlalchemy.org\"},\r\n",
    "           {\"username\": 'sandy', \"email_address\": \"sandy@sqlalchemy.org\"},\r\n",
    "           {\"username\": 'sandy', \"email_address\": \"sandy@squirrelpower.org\"},\r\n",
    "       ]\r\n",
    "   )\r\n",
    "   conn.commit()"
   ],
   "outputs": [],
   "metadata": {}
  },
  {
   "cell_type": "code",
   "execution_count": null,
   "source": [
    "select_stmt = select(user_table.c.id,user_table.c.name + \"@aol.co\")\r\n",
    "insert_stmt = insert(address_table).from_select(\r\n",
    "    [\"user_id\",\"email_address\"], select_stmt)\r\n",
    "print(insert_stmt)"
   ],
   "outputs": [],
   "metadata": {}
  },
  {
   "cell_type": "code",
   "execution_count": null,
   "source": [
    "insert_stmt= insert(address_table).returning(\r\n",
    "    address_table.c.id, address_table.c.email_address)\r\n",
    "print(insert_stmt)"
   ],
   "outputs": [],
   "metadata": {}
  },
  {
   "cell_type": "markdown",
   "source": [
    "## Selecting Rows with Core or ORM"
   ],
   "metadata": {}
  },
  {
   "cell_type": "code",
   "execution_count": 10,
   "source": [
    "stmt = select(user_table).where(user_table.c.name == 'spongebob')\r\n",
    "print(stmt)"
   ],
   "outputs": [
    {
     "output_type": "stream",
     "name": "stdout",
     "text": [
      "SELECT user_account.id, user_account.name, user_account.fullname \n",
      "FROM user_account \n",
      "WHERE user_account.name = :name_1\n"
     ]
    }
   ],
   "metadata": {}
  },
  {
   "cell_type": "code",
   "execution_count": 11,
   "source": [
    "with engine.connect() as conn:\r\n",
    "    for row in conn.execute(stmt):\r\n",
    "        print(row)"
   ],
   "outputs": [
    {
     "output_type": "stream",
     "name": "stdout",
     "text": [
      "2021-07-28 13:34:41,353 INFO sqlalchemy.engine.Engine BEGIN (implicit)\n",
      "2021-07-28 13:34:41,355 INFO sqlalchemy.engine.Engine SELECT user_account.id, user_account.name, user_account.fullname \n",
      "FROM user_account \n",
      "WHERE user_account.name = ?\n",
      "2021-07-28 13:34:41,356 INFO sqlalchemy.engine.Engine [generated in 0.00388s] ('spongebob',)\n",
      "(1, 'spongebob', 'Spongebob Squarepants')\n",
      "2021-07-28 13:34:41,360 INFO sqlalchemy.engine.Engine ROLLBACK\n"
     ]
    }
   ],
   "metadata": {}
  },
  {
   "cell_type": "code",
   "execution_count": null,
   "source": [
    "print(select(user_table.c.name, user_table.c.fullname))"
   ],
   "outputs": [],
   "metadata": {}
  },
  {
   "cell_type": "code",
   "execution_count": null,
   "source": [
    "from sqlalchemy import literal_column\r\n",
    "stmt=(\r\n",
    "    select(\r\n",
    "        (\"Username:\" + user_table.c.name).label(\"username\"),\r\n",
    "    ).order_by(user_table.c.name)\r\n",
    ")\r\n",
    "with engine.connect() as conn:\r\n",
    "    for row in conn.execute(stmt):\r\n",
    "        print(f\"{row.username}\")"
   ],
   "outputs": [],
   "metadata": {}
  },
  {
   "cell_type": "code",
   "execution_count": null,
   "source": [],
   "outputs": [],
   "metadata": {}
  }
 ]
}